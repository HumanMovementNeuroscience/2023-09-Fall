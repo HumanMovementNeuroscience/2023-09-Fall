{
  "cells": [
    {
      "cell_type": "markdown",
      "id": "1cdfdca98234e968",
      "metadata": {
        "collapsed": false,
        "id": "1cdfdca98234e968"
      },
      "source": [
        "# The Neuroscience of Human Movement analysis notebook!"
      ]
    },
    {
      "cell_type": "markdown",
      "id": "41378eca2319bd7a",
      "metadata": {
        "collapsed": false,
        "id": "41378eca2319bd7a"
      },
      "source": []
    },
    {
      "cell_type": "code",
      "execution_count": null,
      "id": "21dd4017a36af8f4",
      "metadata": {
        "ExecuteTime": {
          "end_time": "2023-10-24T00:37:31.653642Z",
          "start_time": "2023-10-24T00:37:31.632636Z"
        },
        "id": "21dd4017a36af8f4"
      },
      "outputs": [],
      "source": [
        "#Importing libraries\n",
        "\n",
        "\n",
        "from pathlib import Path\n",
        "\n",
        "try:\n",
        "    import numpy as np\n",
        "except Exception as e:\n",
        "    print(e)\n",
        "    %pip install numpy\n",
        "    import numpy as np\n",
        "\n",
        "try:\n",
        "    from scipy.signal import find_peaks\n",
        "except Exception as e:\n",
        "    print(e)\n",
        "    %pip install scipy\n",
        "    from scipy.signal import find_peaks\n",
        "\n",
        "try:\n",
        "    from plotly.subplots import make_subplots\n",
        "    import plotly.graph_objects as go\n",
        "except Exception as e:\n",
        "    print(e)\n",
        "    %pip install plotly\n",
        "    from plotly.subplots import make_subplots\n",
        "    import plotly.graph_objects as go"
      ]
    },
    {
      "cell_type": "code",
      "execution_count": null,
      "id": "3z5uv9TZa5LB",
      "metadata": {
        "colab": {
          "base_uri": "https://localhost:8080/",
          "height": 77
        },
        "id": "3z5uv9TZa5LB",
        "outputId": "53b66c96-fb3d-40c4-bc81-96ba9b4c0532"
      },
      "outputs": [],
      "source": [
        "# Insert the path to the data here\n",
        "\n",
        "freemocap_3d_body_data = np.load(\"/content/mediapipe_body_3d_xyz.npy\")\n",
        "total_body_com_data = np.load(\"/content/total_body_center_of_mass_xyz.npy\")\n",
        "\n"
      ]
    },
    {
      "cell_type": "code",
      "execution_count": null,
      "id": "39262462fad21b10",
      "metadata": {
        "ExecuteTime": {
          "end_time": "2023-10-24T00:37:31.673040Z",
          "start_time": "2023-10-24T00:37:31.639548Z"
        },
        "colab": {
          "base_uri": "https://localhost:8080/"
        },
        "id": "39262462fad21b10",
        "outputId": "a16deecb-57f9-46c8-b467-e22ebe368fc5"
      },
      "outputs": [],
      "source": [
        "total_body_com_data.shape"
      ]
    },
    {
      "cell_type": "markdown",
      "id": "a8200e75a3457e6",
      "metadata": {
        "collapsed": false,
        "id": "a8200e75a3457e6"
      },
      "source": [
        "### What does the \"shape\" of the data mean?\n",
        "The shape of the data is the number of frames by the number of dimensions. In this case, the data is 3D, so the shape is (number of frames, 3)."
      ]
    },
    {
      "cell_type": "code",
      "execution_count": null,
      "id": "55b9e432c98ab003",
      "metadata": {
        "ExecuteTime": {
          "end_time": "2023-10-24T00:37:31.673113Z",
          "start_time": "2023-10-24T00:37:31.642341Z"
        },
        "id": "55b9e432c98ab003"
      },
      "outputs": [],
      "source": [
        "\n",
        "mediapipe_indices = ['nose',\n",
        "    'left_eye_inner',\n",
        "    'left_eye',\n",
        "    'left_eye_outer',\n",
        "    'right_eye_inner',\n",
        "    'right_eye',\n",
        "    'right_eye_outer',\n",
        "    'left_ear',\n",
        "    'right_ear',\n",
        "    'mouth_left',\n",
        "    'mouth_right',\n",
        "    'left_shoulder',\n",
        "    'right_shoulder',\n",
        "    'left_elbow',\n",
        "    'right_elbow',\n",
        "    'left_wrist',\n",
        "    'right_wrist',\n",
        "    'left_pinky',\n",
        "    'right_pinky',\n",
        "    'left_index',\n",
        "    'right_index',\n",
        "    'left_thumb',\n",
        "    'right_thumb',\n",
        "    'left_hip',\n",
        "    'right_hip',\n",
        "    'left_knee',\n",
        "    'right_knee',\n",
        "    'left_ankle',\n",
        "    'right_ankle',\n",
        "    'left_heel',\n",
        "    'right_heel',\n",
        "    'left_foot_index',\n",
        "    'right_foot_index']\n",
        "\n",
        "joint_to_plot_index = mediapipe_indices.index('nose') #You can choose what point you'd like to look at here by                                                             changing the string in the mediapipe_indices list."
      ]
    },
    {
      "cell_type": "code",
      "execution_count": null,
      "id": "dcd3caa0780c1472",
      "metadata": {
        "ExecuteTime": {
          "end_time": "2023-10-24T00:37:31.703063Z",
          "start_time": "2023-10-24T00:37:31.649123Z"
        },
        "id": "dcd3caa0780c1472"
      },
      "outputs": [],
      "source": [
        "freemocap_3d_body_data_to_plot = freemocap_3d_body_data[:,joint_to_plot_index,:]"
      ]
    },
    {
      "cell_type": "markdown",
      "id": "748172036eafe524",
      "metadata": {
        "collapsed": false,
        "id": "748172036eafe524"
      },
      "source": [
        "## 3D Plotting\n",
        "\n",
        "We are creating a 3D plot of the skeleton movement, tracking all the joints in the `mediapipe_indices` list over time.  \n",
        "\n",
        "The 'Play' button at the bottom allows you to watch the motion as if it were a video. Before pressing play, you can manually click and drag the plot around to orient the view of the plot."
      ]
    },
    {
      "cell_type": "code",
      "execution_count": null,
      "id": "363ed68144eaffc8",
      "metadata": {
        "ExecuteTime": {
          "start_time": "2023-10-24T00:37:31.655428Z"
        },
        "colab": {
          "base_uri": "https://localhost:8080/",
          "height": 542
        },
        "id": "363ed68144eaffc8",
        "is_executing": true,
        "outputId": "aec20410-5fd4-4c8f-ada2-525e5c5b78d3"
      },
      "outputs": [],
      "source": [
        "def calculate_axes_means(skeleton_3d_data):\n",
        "    mx_skel = np.nanmean(skeleton_3d_data[:,0:33,0])\n",
        "    my_skel = np.nanmean(skeleton_3d_data[:,0:33,1])\n",
        "    mz_skel = np.nanmean(skeleton_3d_data[:,0:33,2])\n",
        "\n",
        "    return mx_skel, my_skel, mz_skel\n",
        "\n",
        "ax_range = 1500\n",
        "\n",
        "mx_skel, my_skel, mz_skel = calculate_axes_means(freemocap_3d_body_data)\n",
        "\n",
        "# Create a list of frames\n",
        "frames = [go.Frame(data=[go.Scatter3d(\n",
        "    x=freemocap_3d_body_data[i, :, 0],\n",
        "    y=freemocap_3d_body_data[i, :, 1],\n",
        "    z=freemocap_3d_body_data[i, :, 2],\n",
        "    mode='markers',\n",
        "    marker=dict(\n",
        "        size=2,  # Adjust marker size as needed\n",
        "    )\n",
        ")], name=str(i)) for i in range(freemocap_3d_body_data.shape[0])]\n",
        "\n",
        "# Define axis properties\n",
        "axis = dict(\n",
        "    showbackground=True,\n",
        "    backgroundcolor=\"rgb(230, 230,230)\",\n",
        "    gridcolor=\"rgb(255, 255, 255)\",\n",
        "    zerolinecolor=\"rgb(255, 255, 255)\",\n",
        ")\n",
        "\n",
        "# Create a figure\n",
        "fig = go.Figure(\n",
        "    data=[go.Scatter3d(\n",
        "        x=freemocap_3d_body_data[0, :, 0],\n",
        "        y=freemocap_3d_body_data[0, :, 1],\n",
        "        z=freemocap_3d_body_data[0, :, 2],\n",
        "        mode='markers',\n",
        "        marker=dict(\n",
        "            size=2,  # Adjust marker size as needed\n",
        "        )\n",
        "    )],\n",
        "    layout=go.Layout(\n",
        "        scene=dict(\n",
        "            xaxis=dict(axis, range=[mx_skel-ax_range, mx_skel+ax_range]), # Adjust range as needed\n",
        "            yaxis=dict(axis, range=[my_skel-ax_range, my_skel+ax_range]), # Adjust range as needed\n",
        "            zaxis=dict(axis, range=[mz_skel-ax_range, mz_skel+ax_range]),  # Adjust range as needed\n",
        "            aspectmode='cube'\n",
        "        ),\n",
        "        updatemenus=[dict(\n",
        "            type='buttons',\n",
        "            showactive=False,\n",
        "            buttons=[dict(\n",
        "                label='Play',\n",
        "                method='animate',\n",
        "                args=[None, {\"frame\": {\"duration\": 30}}]\n",
        "            )]\n",
        "        )]\n",
        "    ),\n",
        "    frames=frames\n",
        ")\n",
        "\n",
        "fig.show()"
      ]
    },
    {
      "cell_type": "markdown",
      "id": "6953e7463574d038",
      "metadata": {
        "collapsed": false,
        "id": "6953e7463574d038"
      },
      "source": [
        "## Now lets start analysing the data!"
      ]
    },
    {
      "cell_type": "code",
      "execution_count": null,
      "id": "a9b876fa14fbc378",
      "metadata": {
        "colab": {
          "base_uri": "https://localhost:8080/",
          "height": 617
        },
        "id": "a9b876fa14fbc378",
        "is_executing": true,
        "outputId": "400b1c32-f8d3-44d0-a6c9-16e17e726391"
      },
      "outputs": [],
      "source": [
        "\n",
        "fig = make_subplots(rows=3, cols=1, subplot_titles=('Center of Mass X', 'Center of Mass Y', 'Center of Mass Z'))\n",
        "\n",
        "fig.add_trace(\n",
        "    go.Scatter(y=total_body_com_data[:, 0]),\n",
        "    row=1, col=1\n",
        ")\n",
        "\n",
        "fig.add_trace(\n",
        "    go.Scatter(y=total_body_com_data[:, 1]),\n",
        "    row=2, col=1\n",
        ")\n",
        "\n",
        "fig.add_trace(\n",
        "    go.Scatter(y=total_body_com_data[:, 2]),\n",
        "    row=3, col=1\n",
        ")\n",
        "\n",
        "# COM plot axes labels\n",
        "fig.update_yaxes(title_text=\"X Axis (mm)\", row=1, col=1)\n",
        "fig.update_yaxes(title_text=\"Y Axis (mm)\", row=2, col=1)\n",
        "fig.update_yaxes(title_text=\"Z Axis (mm)\", row=3, col=1)\n",
        "fig.update_xaxes(title_text=\"Frame #\", row=3, col=1)  # Assuming you only want x-axis title for the bottommost subplot\n",
        "\n",
        "fig.update_layout(height=600, width=800, showlegend=False)\n",
        "fig.show()\n"
      ]
    },
    {
      "cell_type": "markdown",
      "id": "e416eb5e7bf88e27",
      "metadata": {
        "collapsed": false,
        "id": "e416eb5e7bf88e27"
      },
      "source": [
        "## Lets calculate the kinetics of the COM in the Z direction (vertical)"
      ]
    },
    {
      "cell_type": "code",
      "execution_count": null,
      "id": "ef6bedc02a5d19c9",
      "metadata": {
        "id": "ef6bedc02a5d19c9",
        "is_executing": true
      },
      "outputs": [],
      "source": [
        "from scipy.signal import butter, filtfilt\n",
        "\n",
        "# First lets filter the position data to get it nice a clean\n",
        "# We will use a low pass filter to smooth the data\n",
        "position_com_z_data = total_body_com_data[:, 2]\n",
        "\n",
        "# Filter Function\n",
        "def butterworth_filter(data, cutoff, frame_rate, order=4, filter_type='low'):\n",
        "    nyq = 0.5 * frame_rate\n",
        "    normal_cutoff = cutoff / nyq\n",
        "    b, a = butter(order, normal_cutoff, btype=filter_type, analog=False)\n",
        "\n",
        "    # Adjust the padlen based on the length of the data\n",
        "    padlen = min(order * 3, len(data) - 1)\n",
        "\n",
        "    y = filtfilt(b, a, data, padlen=padlen)\n",
        "    return y\n",
        "\n",
        "# Filter the data\n",
        "position_com_z_data = butterworth_filter(position_com_z_data, 5, 30, order=4, filter_type='low')\n"
      ]
    },
    {
      "cell_type": "code",
      "execution_count": null,
      "id": "9042f15e6e3c0051",
      "metadata": {
        "id": "9042f15e6e3c0051",
        "is_executing": true
      },
      "outputs": [],
      "source": [
        "\n",
        "velocity_com_z_data = np.diff(position_com_z_data, axis=0)\n",
        "acceleration_com_z_data = np.diff(velocity_com_z_data, axis=0)\n",
        "\n",
        "time = 1/30\n"
      ]
    },
    {
      "cell_type": "code",
      "execution_count": null,
      "id": "d867e48cfa98abce",
      "metadata": {
        "colab": {
          "base_uri": "https://localhost:8080/",
          "height": 817
        },
        "id": "d867e48cfa98abce",
        "is_executing": true,
        "outputId": "fe8649af-652c-4622-d5b9-dcc4eab6f4d7"
      },
      "outputs": [],
      "source": [
        "# Function to normalize and scale data to fit between -1 and 1\n",
        "def normalize_and_scale(data):\n",
        "    normalized_data = 2 * ((data - min(data)) / (max(data) - min(data))) - 1\n",
        "    return normalized_data\n",
        "\n",
        "# Apply the function to your data\n",
        "scaled_position = normalize_and_scale(position_com_z_data)\n",
        "scaled_velocity = normalize_and_scale(velocity_com_z_data)\n",
        "scaled_acceleration = normalize_and_scale(acceleration_com_z_data)\n",
        "\n",
        "# Plot the data\n",
        "fig = make_subplots(rows=4, cols=1, subplot_titles=('Z Position', 'Z Velocity', 'Z Acceleration', 'Superimposed'))\n",
        "\n",
        "fig.add_trace(\n",
        "    go.Scatter(y=position_com_z_data, name='Z Position', line=dict(color='red')),\n",
        "    row=1, col=1\n",
        ")\n",
        "\n",
        "fig.add_trace(\n",
        "    go.Scatter(y=velocity_com_z_data, name='Z Velocity', line=dict(color='green')),\n",
        "    row=2, col=1\n",
        ")\n",
        "\n",
        "fig.add_trace(\n",
        "    go.Scatter(y=acceleration_com_z_data, name='Z Acceleration', line=dict(color='blue')),\n",
        "    row=3, col=1\n",
        ")\n",
        "\n",
        "# Add the scaled traces to the fourth subplot\n",
        "fig.add_trace(\n",
        "    go.Scatter(y=scaled_position, name='Scaled Z Position', line=dict(color='red')),\n",
        "    row=4, col=1\n",
        ")\n",
        "fig.add_trace(\n",
        "    go.Scatter(y=scaled_velocity, name='Scaled Z Velocity', line=dict(color='green')),\n",
        "    row=4, col=1\n",
        ")\n",
        "fig.add_trace(\n",
        "    go.Scatter(y=scaled_acceleration, name='Scaled Z Acceleration', line=dict(color='blue')),\n",
        "    row=4, col=1\n",
        ")\n",
        "\n",
        "# COM plot axes labels\n",
        "fig.update_yaxes(title_text=\"Z Position\", row=1, col=1)\n",
        "fig.update_yaxes(title_text=\"Z Velocity\", row=2, col=1)\n",
        "fig.update_yaxes(title_text=\"Z Acceleration\", row=3, col=1)\n",
        "fig.update_xaxes(title_text=\"Frame #\", row=4, col=1)\n",
        "\n",
        "fig.update_layout(height=800, width=800, showlegend=True)\n",
        "fig.show()\n"
      ]
    },
    {
      "cell_type": "code",
      "execution_count": null,
      "id": "-gcbjHFek-tV",
      "metadata": {
        "id": "-gcbjHFek-tV"
      },
      "outputs": [],
      "source": []
    },
    {
      "cell_type": "markdown",
      "id": "af56c1f276cf367a",
      "metadata": {
        "collapsed": false,
        "id": "af56c1f276cf367a"
      },
      "source": [
        "## Lets look a little closer at the acceleration data."
      ]
    },
    {
      "cell_type": "code",
      "execution_count": null,
      "id": "e960df75d5a7c9b7",
      "metadata": {
        "colab": {
          "base_uri": "https://localhost:8080/"
        },
        "id": "e960df75d5a7c9b7",
        "is_executing": true,
        "outputId": "0c262dd9-7010-4f98-c63e-1c698fc0ec45"
      },
      "outputs": [],
      "source": [
        "liftoff_time_stamps = []\n",
        "bottom_time_stamps = []\n",
        "apex_time_stamps = []\n",
        "\n",
        "for t in range(velocity_com_z_data.size-2):\n",
        "    if (velocity_com_z_data[t+2]<velocity_com_z_data[t+1]\n",
        "        and velocity_com_z_data[t] < velocity_com_z_data[t+1]):\n",
        "        liftoff_time_stamps.append(t+1)\n",
        "\n",
        "for t in range(velocity_com_z_data.size-1):\n",
        "    if velocity_com_z_data[t+1] > 0 and velocity_com_z_data[t] <= 0:\n",
        "        bottom_time_stamps.append(t)\n",
        "    if velocity_com_z_data[t+1] < 0 and velocity_com_z_data[t] >= 0:\n",
        "        apex_time_stamps.append(t)\n",
        "\n",
        "print(f\"number of iterations at bottom: \", len(bottom_time_stamps))\n",
        "print(f\"number of iterations at apex: \", len(apex_time_stamps))"
      ]
    },
    {
      "cell_type": "code",
      "execution_count": null,
      "id": "MKT7Ebrk6mo-",
      "metadata": {
        "colab": {
          "base_uri": "https://localhost:8080/",
          "height": 542
        },
        "id": "MKT7Ebrk6mo-",
        "outputId": "182871e2-b1be-4591-8f7e-1e1e40ac7c82"
      },
      "outputs": [],
      "source": [
        "fig = go.Figure()\n",
        "\n",
        "# Add the velocity data\n",
        "fig.add_trace(\n",
        "    go.Scatter(y=velocity_com_z_data, mode='lines', name='Velocity COM Z')\n",
        ")\n",
        "\n",
        "fig.add_trace(\n",
        "    go.Scatter(x=liftoff_time_stamps, y=velocity_com_z_data[liftoff_time_stamps],\n",
        "               mode='markers', marker_symbol='star', marker_size=10,\n",
        "               marker_color='yellow', name='Lift Off')\n",
        ")\n",
        "\n",
        "# Show the plot\n",
        "fig.show()"
      ]
    },
    {
      "cell_type": "code",
      "execution_count": null,
      "id": "65d1afedca8851f0",
      "metadata": {
        "colab": {
          "base_uri": "https://localhost:8080/",
          "height": 542
        },
        "id": "65d1afedca8851f0",
        "is_executing": true,
        "outputId": "1cad5eb7-f3aa-4cc3-c6c6-3c56ff0091f4"
      },
      "outputs": [],
      "source": [
        "fig = go.Figure()\n",
        "\n",
        "# Add the acceleration data\n",
        "fig.add_trace(\n",
        "    go.Scatter(y=acceleration_com_z_data, mode='lines', name='Acceleration COM Z')\n",
        ")\n",
        "\n",
        "fig.add_trace(\n",
        "    go.Scatter(x=liftoff_time_stamps, y=acceleration_com_z_data[liftoff_time_stamps],\n",
        "               mode='markers', marker_symbol='star', marker_size=10,\n",
        "               marker_color='yellow', name='Lift Off')\n",
        ")\n",
        "\n",
        "# Show the plot\n",
        "fig.show()"
      ]
    },
    {
      "cell_type": "code",
      "execution_count": null,
      "id": "cad0dd008154ee48",
      "metadata": {
        "id": "cad0dd008154ee48",
        "is_executing": true
      },
      "outputs": [],
      "source": []
    },
    {
      "cell_type": "code",
      "execution_count": null,
      "id": "335879ffef8f8362",
      "metadata": {
        "colab": {
          "base_uri": "https://localhost:8080/",
          "height": 1000
        },
        "id": "335879ffef8f8362",
        "is_executing": true,
        "outputId": "ae5b13c1-fc75-4b60-f4bb-993bf7f0a82a"
      },
      "outputs": [],
      "source": [
        "# Create the state space plot\n",
        "fig = go.Figure()\n",
        "\n",
        "# Plot height_position vs height_velocity\n",
        "fig.add_trace(\n",
        "    go.Scatter(x= velocity_com_z_data, y=position_com_z_data, mode='lines+markers', marker=dict(symbol='circle', size=6, opacity=0.5), name='Data')\n",
        ")\n",
        "\n",
        "# Mark the start\n",
        "fig.add_trace(\n",
        "    go.Scatter(x=[velocity_com_z_data[0]], y=[position_com_z_data[0]], mode='markers', marker=dict(symbol='triangle-down', color='red', size=10), name='Start')\n",
        ")\n",
        "\n",
        "# Mark the bottom timestamps\n",
        "fig.add_trace(\n",
        "    go.Scatter(x=velocity_com_z_data[bottom_time_stamps], y=position_com_z_data[bottom_time_stamps], mode='markers', marker=dict(symbol='circle', color='brown', size=10), name='Bottom')\n",
        ")\n",
        "\n",
        "# Mark the apex timestamps\n",
        "fig.add_trace(\n",
        "    go.Scatter(x=velocity_com_z_data[apex_time_stamps], y=position_com_z_data[apex_time_stamps], mode='markers', marker=dict(symbol='circle', color='magenta', size=10), name='Apex')\n",
        ")\n",
        "\n",
        "# Mark the liftoff timestamps\n",
        "fig.add_trace(\n",
        "    go.Scatter(x=velocity_com_z_data[liftoff_time_stamps], y=position_com_z_data[liftoff_time_stamps], mode='markers', marker=dict(symbol='circle', color='green', size=10), name='Lift Off')\n",
        ")\n",
        "\n",
        "# Set axis labels\n",
        "fig.update_layout(xaxis_title='velocity', yaxis_title='position')\n",
        "fig.update_layout(height=1200, width=600, showlegend=True)\n",
        "\n",
        "# Show the plot\n",
        "fig.show()\n"
      ]
    },
    {
      "cell_type": "code",
      "execution_count": null,
      "id": "9f9a49d6c214e75b",
      "metadata": {
        "colab": {
          "base_uri": "https://localhost:8080/",
          "height": 542
        },
        "id": "9f9a49d6c214e75b",
        "is_executing": true,
        "outputId": "3cac9972-2a93-4a84-db30-71b23bcacfcb"
      },
      "outputs": [],
      "source": [
        "fig = go.Figure()\n",
        "\n",
        "# Plot position_com_z_data vs velocity_com_z_data vs acceleration_com_z_data\n",
        "fig.add_trace(\n",
        "    go.Scatter3d(\n",
        "        x=position_com_z_data,\n",
        "        y=velocity_com_z_data,\n",
        "        z=acceleration_com_z_data,\n",
        "        mode='lines+markers',\n",
        "        marker=dict(size=2, opacity=0.8),\n",
        "        name='State Space Data'\n",
        "    )\n",
        ")\n",
        "\n",
        "# Set axis labels\n",
        "fig.update_layout(\n",
        "    scene=dict(\n",
        "        xaxis_title='Position COM Z [??]',\n",
        "        yaxis_title='Velocity COM Z [??]',\n",
        "        zaxis_title='Acceleration COM Z [??]'\n",
        "    )\n",
        ")\n",
        "\n",
        "# Show the plot\n",
        "fig.show()"
      ]
    },
    {
      "cell_type": "code",
      "execution_count": null,
      "id": "93984bbab6782359",
      "metadata": {
        "id": "93984bbab6782359",
        "is_executing": true
      },
      "outputs": [],
      "source": []
    }
  ],
  "metadata": {
    "colab": {
      "provenance": []
    },
    "kernelspec": {
      "display_name": "Python 3",
      "language": "python",
      "name": "python3"
    },
    "language_info": {
      "codemirror_mode": {
        "name": "ipython",
        "version": 2
      },
      "file_extension": ".py",
      "mimetype": "text/x-python",
      "name": "python",
      "nbconvert_exporter": "python",
      "pygments_lexer": "ipython2",
      "version": "2.7.6"
    }
  },
  "nbformat": 4,
  "nbformat_minor": 5
}
